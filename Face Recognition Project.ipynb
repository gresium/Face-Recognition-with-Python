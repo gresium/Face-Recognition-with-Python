{
 "cells": [
  {
   "cell_type": "code",
   "execution_count": 7,
   "id": "bff32825",
   "metadata": {},
   "outputs": [],
   "source": [
    "import cv2 \n",
    "import numpy as np\n",
    "import face_recognition as fr \n"
   ]
  },
  {
   "cell_type": "code",
   "execution_count": 8,
   "id": "05623aaf",
   "metadata": {},
   "outputs": [],
   "source": [
    "video_capture= cv2.VideoCapture(0)"
   ]
  },
  {
   "cell_type": "code",
   "execution_count": 9,
   "id": "8dbf27dd",
   "metadata": {},
   "outputs": [],
   "source": [
    "image= fr.load_image_file (\"images.jpeg\")"
   ]
  },
  {
   "cell_type": "code",
   "execution_count": 10,
   "id": "9bf2abd9",
   "metadata": {},
   "outputs": [],
   "source": [
    "image_face_encoding= fr.face_encodings(image) [0]"
   ]
  },
  {
   "cell_type": "code",
   "execution_count": 12,
   "id": "42da2627",
   "metadata": {},
   "outputs": [],
   "source": [
    "known_face_encodings= [image_face_encoding]"
   ]
  },
  {
   "cell_type": "code",
   "execution_count": 13,
   "id": "34595217",
   "metadata": {},
   "outputs": [],
   "source": [
    "known_face_names= [\"trump\"]"
   ]
  },
  {
   "cell_type": "code",
   "execution_count": 14,
   "id": "37b32a5d",
   "metadata": {},
   "outputs": [
    {
     "name": "stdout",
     "output_type": "stream",
     "text": [
      "Failed to capture frame from camera.\n"
     ]
    }
   ],
   "source": [
    "import cv2\n",
    "import face_recognition as fr\n",
    "import numpy as np\n",
    "\n",
    "# -------------------------------\n",
    "# Load the known image\n",
    "# -------------------------------\n",
    "known_image = fr.load_image_file(\"images.jpeg\")  # Change to your file name\n",
    "known_image = np.ascontiguousarray(known_image)  # Fix for Python 3.13/dlib\n",
    "known_face_encoding = fr.face_encodings(known_image)[0]\n",
    "\n",
    "# Store encodings and names\n",
    "known_face_encodings = [known_face_encoding]\n",
    "known_face_names = [\"trump\"]\n",
    "\n",
    "# -------------------------------\n",
    "# Start webcam\n",
    "# -------------------------------\n",
    "video_capture = cv2.VideoCapture(0)\n",
    "\n",
    "while True:\n",
    "    ret, frame = video_capture.read()\n",
    "    if not ret:\n",
    "        print(\"Failed to capture frame from camera.\")\n",
    "        break\n",
    "\n",
    "    # Convert from BGR (OpenCV default) to RGB\n",
    "    rgb_frame = cv2.cvtColor(frame, cv2.COLOR_BGR2RGB)\n",
    "    rgb_frame = np.ascontiguousarray(rgb_frame)  # Ensure contiguous array\n",
    "\n",
    "    # Find all face locations and encodings in the current frame\n",
    "    face_locations = fr.face_locations(rgb_frame)\n",
    "    face_encodings = fr.face_encodings(rgb_frame, face_locations)\n",
    "\n",
    "    for (top, right, bottom, left), face_encoding in zip(face_locations, face_encodings):\n",
    "        matches = fr.compare_faces(known_face_encodings, face_encoding)\n",
    "        name = \"Unknown\"\n",
    "\n",
    "        if True in matches:\n",
    "            first_match_index = matches.index(True)\n",
    "            name = known_face_names[first_match_index]\n",
    "\n",
    "        # Draw rectangle around the face\n",
    "        cv2.rectangle(frame, (left, top), (right, bottom), (0, 255, 0), 2)\n",
    "        # Label the face\n",
    "        cv2.rectangle(frame, (left, bottom - 35), (right, bottom), (0, 255, 0), cv2.FILLED)\n",
    "        cv2.putText(frame, name, (left + 6, bottom - 6),\n",
    "                    cv2.FONT_HERSHEY_DUPLEX, 0.8, (255, 255, 255), 1)\n",
    "\n",
    "    # Display video feed\n",
    "    cv2.imshow('Video', frame)\n",
    "\n",
    "    # Press 'q' to quit\n",
    "    if cv2.waitKey(1) & 0xFF == ord('q'):\n",
    "        break\n",
    "\n",
    "video_capture.release()\n",
    "cv2.destroyAllWindows()\n"
   ]
  },
  {
   "cell_type": "code",
   "execution_count": 16,
   "id": "c4d7642b",
   "metadata": {},
   "outputs": [
    {
     "name": "stdout",
     "output_type": "stream",
     "text": [
      "Failed to grab frame\n"
     ]
    }
   ],
   "source": [
    "import cv2\n",
    "\n",
    "cap = cv2.VideoCapture(0)\n",
    "if not cap.isOpened():\n",
    "    print(\"Cannot open camera\")\n",
    "    exit()\n",
    "\n",
    "while True:\n",
    "    ret, frame = cap.read()\n",
    "    if not ret:\n",
    "        print(\"Failed to grab frame\")\n",
    "        break\n",
    "\n",
    "    cv2.imshow('Video', frame)\n",
    "    if cv2.waitKey(1) & 0xFF == ord('q'):\n",
    "        break\n",
    "\n",
    "cap.release()\n",
    "cv2.destroyAllWindows()\n"
   ]
  }
 ],
 "metadata": {
  "kernelspec": {
   "display_name": ".venv",
   "language": "python",
   "name": "python3"
  },
  "language_info": {
   "codemirror_mode": {
    "name": "ipython",
    "version": 3
   },
   "file_extension": ".py",
   "mimetype": "text/x-python",
   "name": "python",
   "nbconvert_exporter": "python",
   "pygments_lexer": "ipython3",
   "version": "3.13.5"
  }
 },
 "nbformat": 4,
 "nbformat_minor": 5
}
